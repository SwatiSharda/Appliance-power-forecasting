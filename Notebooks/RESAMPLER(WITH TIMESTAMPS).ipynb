{
 "cells": [
  {
   "cell_type": "code",
   "execution_count": 9,
   "metadata": {},
   "outputs": [],
   "source": [
    "import pandas as pd\n",
    "from matplotlib import pyplot\n",
    "from sklearn.externals import joblib\n",
    "import numpy as np\n",
    "import datetime"
   ]
  },
  {
   "cell_type": "code",
   "execution_count": 11,
   "metadata": {},
   "outputs": [],
   "source": [
    "def dat_to_dataframe(file_path):\n",
    "    file = open(file_path)\n",
    "    data = file.readlines()\n",
    "    df_data=[]\n",
    "\n",
    "    for i in data:\n",
    "        temp = i.split(\" \")\n",
    "        df_data.append([int(x) for x in temp])\n",
    "            \n",
    "    df_data = pd.DataFrame(df_data)\n",
    "    return df_data"
   ]
  },
  {
   "cell_type": "code",
   "execution_count": 12,
   "metadata": {},
   "outputs": [],
   "source": [
    "path= \"\""
   ]
  },
  {
   "cell_type": "code",
   "execution_count": null,
   "metadata": {},
   "outputs": [],
   "source": [
    "df = dat_to_dataframe(path)"
   ]
  },
  {
   "cell_type": "code",
   "execution_count": 7,
   "metadata": {},
   "outputs": [],
   "source": [
    "def resampler(dataframe,time = \"5min\"):\n",
    "    dataframe = dataframe.set_index([0])\n",
    "    dataframe.index = pd.to_datetime(dataframe.index,unit = \"s\")\n",
    "    resample = rnn_data.resample(time)\n",
    "    resampled_data = resample.sum()\n",
    "    return resampled_data"
   ]
  },
  {
   "cell_type": "code",
   "execution_count": 8,
   "metadata": {},
   "outputs": [],
   "source": [
    "def get_resampled_with_timestamp(data):\n",
    "    data = pd.reset_index(data)\n",
    "    return data"
   ]
  },
  {
   "cell_type": "code",
   "execution_count": 10,
   "metadata": {},
   "outputs": [],
   "source": [
    "def string_to_timestamp(string):\n",
    "    date_time_obj = datetime.datetime.strptime(string, '%Y-%m-%d %H:%M:%S.%f')\n",
    "    timestamp = date_time_obj.timestamp()\n",
    "    return timestamp"
   ]
  }
 ],
 "metadata": {
  "kernelspec": {
   "display_name": "Python 3",
   "language": "python",
   "name": "python3"
  },
  "language_info": {
   "codemirror_mode": {
    "name": "ipython",
    "version": 3
   },
   "file_extension": ".py",
   "mimetype": "text/x-python",
   "name": "python",
   "nbconvert_exporter": "python",
   "pygments_lexer": "ipython3",
   "version": "3.7.3"
  }
 },
 "nbformat": 4,
 "nbformat_minor": 2
}
