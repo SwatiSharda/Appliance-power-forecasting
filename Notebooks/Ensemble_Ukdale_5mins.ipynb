{
  "nbformat": 4,
  "nbformat_minor": 0,
  "metadata": {
    "kernelspec": {
      "name": "python3",
      "display_name": "Python 3"
    },
    "language_info": {
      "codemirror_mode": {
        "name": "ipython",
        "version": 3
      },
      "file_extension": ".py",
      "mimetype": "text/x-python",
      "name": "python",
      "nbconvert_exporter": "python",
      "pygments_lexer": "ipython3",
      "version": "3.7.3"
    },
    "colab": {
      "name": "Ensemble_Ukdale_5mins.ipynb",
      "provenance": [],
      "collapsed_sections": [],
      "include_colab_link": true
    },
    "accelerator": "GPU"
  },
  "cells": [
    {
      "cell_type": "markdown",
      "metadata": {
        "id": "view-in-github",
        "colab_type": "text"
      },
      "source": [
        "<a href=\"https://colab.research.google.com/github/RachitBansal/AppliancePower_TimeSeries/blob/master/Ensemble_Ukdale_5mins.ipynb\" target=\"_parent\"><img src=\"https://colab.research.google.com/assets/colab-badge.svg\" alt=\"Open In Colab\"/></a>"
      ]
    },
    {
      "cell_type": "code",
      "metadata": {
        "id": "rU0SxZHFwyah",
        "colab_type": "code",
        "outputId": "abe936ef-1ab6-426a-ae2d-c2e7102d8adf",
        "colab": {
          "base_uri": "https://localhost:8080/",
          "height": 136
        }
      },
      "source": [
        "####code to  upload the data and resample the data (day wise)\n",
        "from sklearn.externals import joblib\n",
        "from keras.layers import Dense ,LSTM\n",
        "from keras.models import Sequential \n",
        "from sklearn.metrics import mean_absolute_error,mean_squared_error\n",
        "import pandas as pd\n",
        "import numpy as np\n",
        "from math import sqrt\n",
        "from sklearn.preprocessing import MinMaxScaler\n",
        "import matplotlib.pyplot as plt\n",
        "from matplotlib import pyplot\n",
        "from keras.layers import Dropout\n",
        "from keras.layers import LeakyReLU\n",
        "from keras.layers import LSTM\n",
        "from keras.layers import RepeatVector\n",
        "from keras.layers import TimeDistributed\n",
        "from keras.layers.convolutional import Conv1D\n",
        "from keras.layers.convolutional import MaxPooling1D\n",
        "from keras.layers import Flatten\n",
        "from sklearn.metrics import r2_score as r2\n",
        "import matplotlib.pyplot as plt\n",
        "import tensorflow as tf\n",
        "\n",
        "# import r2\n",
        "# import mane\n",
        "\n",
        "import keras.backend as K\n",
        "\n",
        "import os"
      ],
      "execution_count": 0,
      "outputs": [
        {
          "output_type": "stream",
          "text": [
            "/usr/local/lib/python3.6/dist-packages/sklearn/externals/joblib/__init__.py:15: DeprecationWarning: sklearn.externals.joblib is deprecated in 0.21 and will be removed in 0.23. Please import this functionality directly from joblib, which can be installed with: pip install joblib. If this warning is raised when loading pickled models, you may need to re-serialize those models with scikit-learn 0.21+.\n",
            "  warnings.warn(msg, category=DeprecationWarning)\n",
            "Using TensorFlow backend.\n"
          ],
          "name": "stderr"
        },
        {
          "output_type": "display_data",
          "data": {
            "text/html": [
              "<p style=\"color: red;\">\n",
              "The default version of TensorFlow in Colab will soon switch to TensorFlow 2.x.<br>\n",
              "We recommend you <a href=\"https://www.tensorflow.org/guide/migrate\" target=\"_blank\">upgrade</a> now \n",
              "or ensure your notebook will continue to use TensorFlow 1.x via the <code>%tensorflow_version 1.x</code> magic:\n",
              "<a href=\"https://colab.research.google.com/notebooks/tensorflow_version.ipynb\" target=\"_blank\">more info</a>.</p>\n"
            ],
            "text/plain": [
              "<IPython.core.display.HTML object>"
            ]
          },
          "metadata": {
            "tags": []
          }
        }
      ]
    },
    {
      "cell_type": "code",
      "metadata": {
        "id": "vwHoyoEboN9L",
        "colab_type": "code",
        "outputId": "5f84f2a2-c4ed-47d3-d495-932b800e5489",
        "colab": {
          "base_uri": "https://localhost:8080/",
          "height": 124
        }
      },
      "source": [
        "from google.colab import drive\n",
        "drive.mount('/content/drive',force_remount=True)"
      ],
      "execution_count": 0,
      "outputs": [
        {
          "output_type": "stream",
          "text": [
            "Go to this URL in a browser: https://accounts.google.com/o/oauth2/auth?client_id=947318989803-6bn6qk8qdgf4n4g3pfee6491hc0brc4i.apps.googleusercontent.com&redirect_uri=urn%3aietf%3awg%3aoauth%3a2.0%3aoob&response_type=code&scope=email%20https%3a%2f%2fwww.googleapis.com%2fauth%2fdocs.test%20https%3a%2f%2fwww.googleapis.com%2fauth%2fdrive%20https%3a%2f%2fwww.googleapis.com%2fauth%2fdrive.photos.readonly%20https%3a%2f%2fwww.googleapis.com%2fauth%2fpeopleapi.readonly\n",
            "\n",
            "Enter your authorization code:\n",
            "··········\n",
            "Mounted at /content/drive\n"
          ],
          "name": "stdout"
        }
      ]
    },
    {
      "cell_type": "code",
      "metadata": {
        "id": "PJUZ2WAuwyat",
        "colab_type": "code",
        "colab": {}
      },
      "source": [
        "import keras.backend as K\n",
        "\n",
        "def r2_score(y_true, y_pred):\n",
        "    SS_res =  K.sum(K.square(y_true-y_pred))\n",
        "    SS_tot = K.sum(K.square(y_true - K.mean(y_true)))\n",
        "    return (1 - SS_res/(SS_tot + K.epsilon()))"
      ],
      "execution_count": 0,
      "outputs": []
    },
    {
      "cell_type": "code",
      "metadata": {
        "id": "7Jpn9ZS5rWeU",
        "colab_type": "code",
        "colab": {}
      },
      "source": [
        "from keras.models import load_model\n",
        "import xgboost"
      ],
      "execution_count": 0,
      "outputs": []
    },
    {
      "cell_type": "code",
      "metadata": {
        "id": "O7arjjcje4sr",
        "colab_type": "code",
        "colab": {}
      },
      "source": [
        "class Ensemble_pipeline():\n",
        "  def __init__(self, equipment, n_members):\n",
        "    self.eq = equipment\n",
        "    self.n_members = n_members\n",
        "\n",
        "  def load_arima_res(self):\n",
        "    return np.load('./drive/My Drive/UkDale/ARIMA/arima_ukdale_preds_1000_eq'+str(self.eq)+'.npy')\n",
        "\n",
        "  def fit_cnn_lstm(self, x_train, y_train):\n",
        "    n_timesteps, n_features = x_train.shape[1], x_train.shape[2]\n",
        "    \n",
        "    model = Sequential()\n",
        "    model.add(Conv1D(filters=64, kernel_size=3, activation='relu', input_shape=(n_timesteps,1)))\n",
        "    model.add(Conv1D(filters=64, kernel_size=3, activation='relu'))\n",
        "    model.add(MaxPooling1D(pool_size=2))\n",
        "    model.add(Flatten())\n",
        "    model.add(RepeatVector(1))\n",
        "    model.add(LSTM(200, activation='relu', return_sequences=True))\n",
        "    model.add(TimeDistributed(Dense(100, activation='relu')))\n",
        "    model.add(TimeDistributed(Dense(1)))\n",
        "    # model.summary()\n",
        "    model.compile(loss='mse', optimizer='adam',metrics = [\"accuracy\"])\n",
        "\n",
        "    model.fit(x_train, y_train, epochs=10, batch_size=128, verbose = 1)\n",
        "    \n",
        "    return model\n",
        "\n",
        "  def load_data(self):\n",
        "    self.train_x = np.load(file='./drive/My Drive/UkDale/ukdale_'+str(self.eq)+'_x.npy')\n",
        "    self.train_y = np.load(file='./drive/My Drive/UkDale/ukdale_'+str(self.eq)+'_y.npy')\n",
        "    test_x = np.load(file='./drive/My Drive/UkDale/ukdale_'+str(self.eq)+'_tx.npy')\n",
        "    test_y = np.load(file='./drive/My Drive/UkDale/ukdale_'+str(self.eq)+'_ty.npy')\n",
        "    val_split = int(0.2*test_x.shape[0])\n",
        "    self.val_x = test_x[-val_split:]\n",
        "    self.val_y = test_y[-val_split:]\n",
        "    self.test_x = test_x[:-val_split]\n",
        "    self.test_y = test_y[:-val_split]\n",
        "    print(self.val_x.shape, self.val_y.shape, self.test_x.shape, self.test_y.shape)\n",
        "  \n",
        "  def load_all_models(self):\n",
        "    all_models = list()\n",
        "    for i in range(self.n_members):\n",
        "        # define filename for this ensemble\n",
        "        filename = './drive/My Drive/ukdale'+str(self.eq-1)+'_model_' + str(i + 1) + '.h5'\n",
        "        # load model from file\n",
        "        model = load_model(filename)\n",
        "        # add to list of members\n",
        "        all_models.append(model)\n",
        "        print('>>> loaded %s' % filename)\n",
        "    return all_models\n",
        "\n",
        "  def stacked_dataset(self, inputX):\n",
        "    stackX = None\n",
        "    for model in self.members:\n",
        "        # make prediction\n",
        "        yhat = model.predict(inputX, verbose=0)\n",
        "        # stack predictions into [rows, members, probabilities]\n",
        "        if stackX is None:\n",
        "            stackX = yhat\n",
        "        else:\n",
        "            stackX = np.dstack((stackX, yhat))\n",
        "\n",
        "    stackX = stackX.reshape((stackX.shape[0], stackX.shape[1]*stackX.shape[2]))\n",
        "    return stackX\n",
        "\n",
        "  def fit_stacked_model(self, inputX, inputy, n_est=45, alpha = 10):\n",
        "      # create dataset using ensemble\n",
        "      stackedX = self.stacked_dataset(inputX)\n",
        "      # fit standalone model\n",
        "      self.ensemble = xgboost.XGBRegressor(objective ='reg:linear', colsample_bytree = 0.3, learning_rate = 0.1, max_depth = 5, alpha = alpha, n_estimators = n_est)\n",
        "      self.ensemble.fit(stackedX, inputy)\n",
        "\n",
        "  def stacked_prediction(self, inputX):\n",
        "      # create dataset using ensemble\n",
        "      stackedX = self.stacked_dataset(inputX)\n",
        "      # make a prediction\n",
        "      yhat = self.ensemble.predict(stackedX)\n",
        "      return yhat\n",
        "\n",
        "  def make_cnnlstm_comparison_graph(self, n_test, idx=0):\n",
        "    preds = []\n",
        "    lstm_preds = []\n",
        "    for i in range(n_test):\n",
        "      lstm_preds.append(self.members[0].predict(self.test_x[i].reshape(1,-1,1))[0][0][0])\n",
        "    e_preds = self.stacked_prediction(self.test_x[idx:idx+n_test])\n",
        "    a_preds = self.load_arima_res()\n",
        "    preds.append(lstm_preds)\n",
        "    preds.append(e_preds)\n",
        "    preds.append(a_preds[:n_test])\n",
        "    print(len(preds))\n",
        "    # np.save(file = './drive/My Drive/UkDale/preds_'+str(self.eq)+'.npy', arr = np.array(preds))\n",
        "\n",
        "    plt.plot(self.test_y[idx:idx+n_test].reshape(-1), c = 'orange', label='actual')\n",
        "    list_colrs = ['red', 'blue', 'red']\n",
        "    labels = ['CNN-LSTM', 'XG-Boost ensemble', 'ARIMA']\n",
        "    for j in range(3):\n",
        "      plt.plot(preds[j], c = list_colrs[j], label=labels[j])\n",
        "    plt.ylabel('Value')\n",
        "    plt.xlabel('Index of Time Series Data')\n",
        "    plt.legend()\n",
        "    plt.show()\n",
        "\n",
        "  def pipeline(self, n_test=100, idx=0, train=False, load=True):\n",
        "    self.load_data()\n",
        "    if(train):\n",
        "        for i in range(self.n_members):\n",
        "          model = self.fit_cnn_lstm(self.train_x, self.train_y)\n",
        "          filename = './drive/My Drive/ukdale' + str(self.eq-1) + '_model_' + str(i + 1) + '.h5'\n",
        "          model.save(filename)\n",
        "          print('>>> Saved %s' % filename)\n",
        "          \n",
        "    if(load):\n",
        "      self.members = self.load_all_models()\n",
        "      print('Loaded %d models' % len(self.members))\n",
        "\n",
        "    # for model in self.members:\n",
        "    #   _, acc = model.evaluate(self.test_x, self.test_y, verbose=0)\n",
        "    #   print('Model Accuracy: %.3f' % acc)\n",
        "\n",
        "    self.fit_stacked_model(inputX = self.val_x, inputy = self.val_y)\n",
        "\n",
        "    self.make_cnnlstm_comparison_graph(n_test, idx)"
      ],
      "execution_count": 0,
      "outputs": []
    },
    {
      "cell_type": "code",
      "metadata": {
        "id": "wdKBc3px-PiM",
        "colab_type": "code",
        "colab": {}
      },
      "source": [
        "d={}"
      ],
      "execution_count": 0,
      "outputs": []
    },
    {
      "cell_type": "code",
      "metadata": {
        "id": "M5_SfyOov35P",
        "colab_type": "code",
        "outputId": "a3fd8334-0bd1-4ddf-fa77-d6e931a5f0dc",
        "colab": {
          "base_uri": "https://localhost:8080/",
          "height": 1000
        }
      },
      "source": [
        "# d={}\n",
        "for i in range(15):\n",
        "  d[\"obj{0}\".format(i)] = Ensemble_pipeline(i+1, 3)\n",
        "  if(i != 3 and i != 5):\n",
        "    d[\"obj{0}\".format(i)].pipeline(n_test = 500, train = False)\n",
        "  elif(i == 5):\n",
        "    d[\"obj{0}\".format(i)].pipeline(n_test = 500, train = False, load = True)"
      ],
      "execution_count": 0,
      "outputs": [
        {
          "output_type": "stream",
          "text": [
            "(37501, 128, 1) (37501, 1, 1) (187509, 128, 1) (187509, 1, 1)\n",
            "Epoch 1/10\n",
            "281327/281327 [==============================] - 41s 147us/step - loss: 1490.0055 - acc: 0.0306\n",
            "Epoch 2/10\n",
            "281327/281327 [==============================] - 33s 118us/step - loss: 1334.7846 - acc: 0.0192\n",
            "Epoch 3/10\n",
            "281327/281327 [==============================] - 33s 117us/step - loss: 1294.9751 - acc: 0.0167\n",
            "Epoch 4/10\n",
            "281327/281327 [==============================] - 33s 119us/step - loss: 1263.1979 - acc: 0.0156\n",
            "Epoch 5/10\n",
            "281327/281327 [==============================] - 33s 119us/step - loss: 1241.6981 - acc: 0.0178\n",
            "Epoch 6/10\n",
            "281327/281327 [==============================] - 34s 120us/step - loss: 1219.1851 - acc: 0.0162\n",
            "Epoch 7/10\n",
            "281327/281327 [==============================] - 34s 120us/step - loss: 1197.7515 - acc: 0.0199\n",
            "Epoch 8/10\n",
            "281327/281327 [==============================] - 33s 119us/step - loss: 1175.2722 - acc: 0.0188\n",
            "Epoch 9/10\n",
            "281327/281327 [==============================] - 33s 119us/step - loss: 1141.4836 - acc: 0.0133\n",
            "Epoch 10/10\n",
            "281327/281327 [==============================] - 34s 119us/step - loss: 1110.2758 - acc: 0.0139\n",
            ">>> Saved ./drive/My Drive/ukdale0_model_1.h5\n",
            "Epoch 1/10\n",
            "281327/281327 [==============================] - 42s 150us/step - loss: 1481.6312 - acc: 0.0354\n",
            "Epoch 2/10\n",
            "281327/281327 [==============================] - 33s 118us/step - loss: 1333.4144 - acc: 0.0336\n",
            "Epoch 3/10\n",
            "281327/281327 [==============================] - 34s 120us/step - loss: 1294.4945 - acc: 0.0282\n",
            "Epoch 4/10\n",
            "281327/281327 [==============================] - 34s 119us/step - loss: 1265.3200 - acc: 0.0296\n",
            "Epoch 5/10\n",
            "281327/281327 [==============================] - 34s 120us/step - loss: 1240.1480 - acc: 0.0234\n",
            "Epoch 6/10\n",
            "281327/281327 [==============================] - 33s 119us/step - loss: 1211.0147 - acc: 0.0238\n",
            "Epoch 7/10\n",
            "281327/281327 [==============================] - 34s 120us/step - loss: 1189.6443 - acc: 0.0204\n",
            "Epoch 8/10\n",
            "281327/281327 [==============================] - 34s 120us/step - loss: 1160.1837 - acc: 0.0139\n",
            "Epoch 9/10\n",
            "281327/281327 [==============================] - 34s 120us/step - loss: 1135.6488 - acc: 0.0155\n",
            "Epoch 10/10\n",
            "281327/281327 [==============================] - 33s 119us/step - loss: 1100.7913 - acc: 0.0157\n",
            ">>> Saved ./drive/My Drive/ukdale0_model_2.h5\n",
            "Epoch 1/10\n",
            "281327/281327 [==============================] - 42s 150us/step - loss: 1480.8327 - acc: 0.0350\n",
            "Epoch 2/10\n",
            "281327/281327 [==============================] - 33s 118us/step - loss: 1328.5916 - acc: 0.0264\n",
            "Epoch 3/10\n",
            "281327/281327 [==============================] - 34s 120us/step - loss: 1292.7419 - acc: 0.0216\n",
            "Epoch 4/10\n",
            "281327/281327 [==============================] - 33s 119us/step - loss: 1258.0027 - acc: 0.0202\n",
            "Epoch 5/10\n",
            "281327/281327 [==============================] - 33s 118us/step - loss: 1232.7017 - acc: 0.0178\n",
            "Epoch 6/10\n",
            "281327/281327 [==============================] - 33s 118us/step - loss: 1213.1573 - acc: 0.0179\n",
            "Epoch 7/10\n",
            "281327/281327 [==============================] - 34s 119us/step - loss: 1185.1816 - acc: 0.0157\n",
            "Epoch 8/10\n",
            "281327/281327 [==============================] - 33s 118us/step - loss: 1157.3568 - acc: 0.0178\n",
            "Epoch 9/10\n",
            "281327/281327 [==============================] - 33s 118us/step - loss: 1131.7989 - acc: 0.0153\n",
            "Epoch 10/10\n",
            "281327/281327 [==============================] - 33s 118us/step - loss: 1098.8636 - acc: 0.0185\n",
            ">>> Saved ./drive/My Drive/ukdale0_model_3.h5\n",
            ">>> loaded ./drive/My Drive/ukdale0_model_1.h5\n",
            ">>> loaded ./drive/My Drive/ukdale0_model_2.h5\n",
            ">>> loaded ./drive/My Drive/ukdale0_model_3.h5\n",
            "Loaded 3 models\n",
            "[12:15:04] WARNING: /workspace/src/objective/regression_obj.cu:152: reg:linear is now deprecated in favor of reg:squarederror.\n",
            "2\n"
          ],
          "name": "stdout"
        },
        {
          "output_type": "display_data",
          "data": {
            "image/png": "[encoded data removed]",
            "text/plain": [
              "<Figure size 432x288 with 1 Axes>"
            ]
          },
          "metadata": {
            "tags": []
          }
        },
        {
          "output_type": "stream",
          "text": [
            "(37501, 128, 1) (37501, 1, 1) (187509, 128, 1) (187509, 1, 1)\n",
            "Epoch 1/10\n",
            "281327/281327 [==============================] - 43s 155us/step - loss: 1.8065 - acc: 0.1686\n",
            "Epoch 2/10\n",
            "281327/281327 [==============================] - 33s 119us/step - loss: 1.3020 - acc: 0.1716\n",
            "Epoch 3/10\n",
            "281327/281327 [==============================] - 34s 119us/step - loss: 1.2036 - acc: 0.1723\n",
            "Epoch 4/10\n",
            "281327/281327 [==============================] - 33s 118us/step - loss: 1.1448 - acc: 0.1727\n",
            "Epoch 5/10\n",
            "281327/281327 [==============================] - 34s 120us/step - loss: 1.0798 - acc: 0.1732\n",
            "Epoch 6/10\n",
            "281327/281327 [==============================] - 34s 119us/step - loss: 1.0210 - acc: 0.1732\n",
            "Epoch 7/10\n",
            "281327/281327 [==============================] - 33s 119us/step - loss: 0.9535 - acc: 0.1734\n",
            "Epoch 8/10\n",
            "281327/281327 [==============================] - 34s 120us/step - loss: 0.8789 - acc: 0.1736\n",
            "Epoch 9/10\n",
            "281327/281327 [==============================] - 33s 119us/step - loss: 0.8095 - acc: 0.1736\n",
            "Epoch 10/10\n",
            "281327/281327 [==============================] - 34s 120us/step - loss: 0.7389 - acc: 0.1740\n",
            ">>> Saved ./drive/My Drive/ukdale1_model_1.h5\n",
            "Epoch 1/10\n",
            "281327/281327 [==============================] - 43s 154us/step - loss: 1.7572 - acc: 0.1687\n",
            "Epoch 2/10\n",
            "281327/281327 [==============================] - 33s 117us/step - loss: 1.3032 - acc: 0.1719\n",
            "Epoch 3/10\n",
            "281327/281327 [==============================] - 33s 117us/step - loss: 1.2212 - acc: 0.1724\n",
            "Epoch 4/10\n",
            "281327/281327 [==============================] - 33s 118us/step - loss: 1.1557 - acc: 0.1728\n",
            "Epoch 5/10\n",
            "281327/281327 [==============================] - 33s 117us/step - loss: 1.0902 - acc: 0.1733\n",
            "Epoch 6/10\n",
            "281327/281327 [==============================] - 33s 119us/step - loss: 1.0383 - acc: 0.1733\n",
            "Epoch 7/10\n",
            "281327/281327 [==============================] - 33s 117us/step - loss: 0.9784 - acc: 0.1734\n",
            "Epoch 8/10\n",
            "281327/281327 [==============================] - 33s 117us/step - loss: 0.9165 - acc: 0.1735\n",
            "Epoch 9/10\n",
            "281327/281327 [==============================] - 33s 118us/step - loss: 0.8597 - acc: 0.1733\n",
            "Epoch 10/10\n",
            "281327/281327 [==============================] - 33s 118us/step - loss: 0.7963 - acc: 0.1737\n",
            ">>> Saved ./drive/My Drive/ukdale1_model_2.h5\n",
            "Epoch 1/10\n",
            "281327/281327 [==============================] - 43s 155us/step - loss: 1.7466 - acc: 0.1690\n",
            "Epoch 2/10\n",
            "281327/281327 [==============================] - 33s 117us/step - loss: 1.3016 - acc: 0.1718\n",
            "Epoch 3/10\n",
            "281327/281327 [==============================] - 33s 119us/step - loss: 1.2107 - acc: 0.1727\n",
            "Epoch 4/10\n",
            "281327/281327 [==============================] - 33s 118us/step - loss: 1.1436 - acc: 0.1731\n",
            "Epoch 5/10\n",
            "281327/281327 [==============================] - 33s 119us/step - loss: 1.0820 - acc: 0.1731\n",
            "Epoch 6/10\n",
            "281327/281327 [==============================] - 33s 118us/step - loss: 1.0283 - acc: 0.1733\n",
            "Epoch 7/10\n",
            "281327/281327 [==============================] - 33s 117us/step - loss: 0.9605 - acc: 0.1735\n",
            "Epoch 8/10\n",
            "281327/281327 [==============================] - 33s 118us/step - loss: 0.9006 - acc: 0.1735\n",
            "Epoch 9/10\n",
            "281327/281327 [==============================] - 33s 117us/step - loss: 0.8313 - acc: 0.1735\n",
            "Epoch 10/10\n",
            "281327/281327 [==============================] - 33s 118us/step - loss: 0.7664 - acc: 0.1737\n",
            ">>> Saved ./drive/My Drive/ukdale1_model_3.h5\n",
            ">>> loaded ./drive/My Drive/ukdale1_model_1.h5\n",
            ">>> loaded ./drive/My Drive/ukdale1_model_2.h5\n",
            ">>> loaded ./drive/My Drive/ukdale1_model_3.h5\n",
            "Loaded 3 models\n",
            "[12:35:02] WARNING: /workspace/src/objective/regression_obj.cu:152: reg:linear is now deprecated in favor of reg:squarederror.\n",
            "2\n"
          ],
          "name": "stdout"
        },
        {
          "output_type": "display_data",
          "data": {
            "image/png": "[encoded data removed]",
            "text/plain": [
              "<Figure size 432x288 with 1 Axes>"
            ]
          },
          "metadata": {
            "tags": []
          }
        },
        {
          "output_type": "stream",
          "text": [
            "(37501, 128, 1) (37501, 1, 1) (187509, 128, 1) (187509, 1, 1)\n",
            "Epoch 1/10\n",
            "281327/281327 [==============================] - 45s 161us/step - loss: 1.1541 - acc: 0.7192\n",
            "Epoch 2/10\n",
            "281327/281327 [==============================] - 34s 122us/step - loss: 1.0050 - acc: 0.7245\n",
            "Epoch 3/10\n",
            "281327/281327 [==============================] - 34s 120us/step - loss: 0.9677 - acc: 0.7264\n",
            "Epoch 4/10\n",
            "281327/281327 [==============================] - 34s 120us/step - loss: 0.9252 - acc: 0.7289\n",
            "Epoch 5/10\n",
            "281327/281327 [==============================] - 34s 119us/step - loss: 0.8913 - acc: 0.7315\n",
            "Epoch 6/10\n",
            "281327/281327 [==============================] - 34s 120us/step - loss: 0.8484 - acc: 0.7338\n",
            "Epoch 7/10\n",
            "281327/281327 [==============================] - 34s 120us/step - loss: 0.8027 - acc: 0.7369\n",
            "Epoch 8/10\n",
            "281327/281327 [==============================] - 34s 120us/step - loss: 0.7550 - acc: 0.7400\n",
            "Epoch 9/10\n",
            "281327/281327 [==============================] - 34s 120us/step - loss: 0.7069 - acc: 0.7427\n",
            "Epoch 10/10\n",
            "281327/281327 [==============================] - 34s 119us/step - loss: 0.6687 - acc: 0.7454\n",
            ">>> Saved ./drive/My Drive/ukdale2_model_1.h5\n",
            "Epoch 1/10\n",
            "281327/281327 [==============================] - 45s 158us/step - loss: 1.1424 - acc: 0.7204\n",
            "Epoch 2/10\n",
            "281327/281327 [==============================] - 33s 119us/step - loss: 1.0145 - acc: 0.7252\n",
            "Epoch 3/10\n",
            "281327/281327 [==============================] - 33s 118us/step - loss: 0.9741 - acc: 0.7261\n",
            "Epoch 4/10\n",
            "281327/281327 [==============================] - 34s 119us/step - loss: 0.9355 - acc: 0.7287\n",
            "Epoch 5/10\n",
            "281327/281327 [==============================] - 33s 118us/step - loss: 0.9013 - acc: 0.7294\n",
            "Epoch 6/10\n",
            "281327/281327 [==============================] - 33s 119us/step - loss: 0.8717 - acc: 0.7317\n",
            "Epoch 7/10\n",
            "281327/281327 [==============================] - 34s 120us/step - loss: 0.8349 - acc: 0.7335\n",
            "Epoch 8/10\n",
            "281327/281327 [==============================] - 33s 118us/step - loss: 0.7999 - acc: 0.7356\n",
            "Epoch 9/10\n",
            "281327/281327 [==============================] - 34s 119us/step - loss: 0.7584 - acc: 0.7383\n",
            "Epoch 10/10\n",
            "281327/281327 [==============================] - 33s 119us/step - loss: 0.7174 - acc: 0.7401\n",
            ">>> Saved ./drive/My Drive/ukdale2_model_2.h5\n",
            "Epoch 1/10\n",
            "281327/281327 [==============================] - 45s 159us/step - loss: 1.1419 - acc: 0.7202\n",
            "Epoch 2/10\n",
            "281327/281327 [==============================] - 33s 118us/step - loss: 1.0066 - acc: 0.7252\n",
            "Epoch 3/10\n",
            "281327/281327 [==============================] - 34s 119us/step - loss: 0.9598 - acc: 0.7279\n",
            "Epoch 4/10\n",
            "281327/281327 [==============================] - 33s 119us/step - loss: 0.9293 - acc: 0.7291\n",
            "Epoch 5/10\n",
            "281327/281327 [==============================] - 34s 120us/step - loss: 0.9028 - acc: 0.7311\n",
            "Epoch 6/10\n",
            "281327/281327 [==============================] - 34s 121us/step - loss: 0.8735 - acc: 0.7328\n",
            "Epoch 7/10\n",
            "281327/281327 [==============================] - 34s 120us/step - loss: 0.8391 - acc: 0.7346\n",
            "Epoch 8/10\n",
            "281327/281327 [==============================] - 34s 119us/step - loss: 0.8112 - acc: 0.7371\n",
            "Epoch 9/10\n",
            "281327/281327 [==============================] - 33s 118us/step - loss: 0.7808 - acc: 0.7380\n",
            "Epoch 10/10\n",
            "281327/281327 [==============================] - 33s 119us/step - loss: 0.7503 - acc: 0.7398\n",
            ">>> Saved ./drive/My Drive/ukdale2_model_3.h5\n",
            ">>> loaded ./drive/My Drive/ukdale2_model_1.h5\n",
            ">>> loaded ./drive/My Drive/ukdale2_model_2.h5\n",
            ">>> loaded ./drive/My Drive/ukdale2_model_3.h5\n",
            "Loaded 3 models\n",
            "[12:55:34] WARNING: /workspace/src/objective/regression_obj.cu:152: reg:linear is now deprecated in favor of reg:squarederror.\n",
            "2\n"
          ],
          "name": "stdout"
        },
        {
          "output_type": "display_data",
          "data": {
            "image/png": "[encoded data removed]",
            "text/plain": [
              "<Figure size 432x288 with 1 Axes>"
            ]
          },
          "metadata": {
            "tags": []
          }
        },
        {
          "output_type": "stream",
          "text": [
            "(37501, 128, 1) (37501, 1, 1) (187509, 128, 1) (187509, 1, 1)\n",
            "Epoch 1/10\n",
            "281328/281328 [==============================] - 47s 165us/step - loss: 206.9377 - acc: 0.3197\n",
            "Epoch 2/10\n",
            "281328/281328 [==============================] - 34s 121us/step - loss: 151.4256 - acc: 0.5982\n",
            "Epoch 3/10\n",
            "281328/281328 [==============================] - 34s 121us/step - loss: 137.9062 - acc: 0.7690\n",
            "Epoch 4/10\n",
            "281328/281328 [==============================] - 34s 120us/step - loss: 127.8819 - acc: 0.8270\n",
            "Epoch 5/10\n",
            "281328/281328 [==============================] - 34s 121us/step - loss: 118.5509 - acc: 0.8743\n",
            "Epoch 6/10\n",
            "281328/281328 [==============================] - 34s 121us/step - loss: 110.2967 - acc: 0.8907\n",
            "Epoch 7/10\n",
            "281328/281328 [==============================] - 34s 123us/step - loss: 103.7373 - acc: 0.9047\n",
            "Epoch 8/10\n",
            "281328/281328 [==============================] - 34s 121us/step - loss: 97.6473 - acc: 0.8985\n",
            "Epoch 9/10\n",
            "281328/281328 [==============================] - 34s 123us/step - loss: 95.4842 - acc: 0.8988\n",
            "Epoch 10/10\n",
            "281328/281328 [==============================] - 34s 122us/step - loss: 92.9658 - acc: 0.9056\n",
            ">>> Saved ./drive/My Drive/ukdale4_model_1.h5\n",
            "Epoch 1/10\n",
            "281328/281328 [==============================] - 47s 165us/step - loss: 207.7593 - acc: 0.3037\n",
            "Epoch 2/10\n",
            "281328/281328 [==============================] - 34s 120us/step - loss: 153.6360 - acc: 0.5277\n",
            "Epoch 3/10\n",
            "281328/281328 [==============================] - 33s 119us/step - loss: 138.0093 - acc: 0.7277\n",
            "Epoch 4/10\n",
            " 69248/281328 [======>.......................] - ETA: 24s - loss: 135.1632 - acc: 0.7986Buffered data was truncated after reaching the output size limit."
          ],
          "name": "stdout"
        }
      ]
    }
  ]
}