{
  "nbformat": 4,
  "nbformat_minor": 0,
  "metadata": {
    "kernelspec": {
      "display_name": "Python 3",
      "language": "python",
      "name": "python3"
    },
    "language_info": {
      "codemirror_mode": {
        "name": "ipython",
        "version": 3
      },
      "file_extension": ".py",
      "mimetype": "text/x-python",
      "name": "python",
      "nbconvert_exporter": "python",
      "pygments_lexer": "ipython3",
      "version": "3.7.3"
    },
    "colab": {
      "name": "1dimension_to_3dimension_convertor.ipynb",
      "provenance": [],
      "collapsed_sections": [],
      "toc_visible": true,
      "include_colab_link": true
    }
  },
  "cells": [
    {
      "cell_type": "markdown",
      "metadata": {
        "id": "view-in-github",
        "colab_type": "text"
      },
      "source": [
        "<a href=\"https://colab.research.google.com/github/RachitBansal/AppliancePower_TimeSeries/blob/master/npy_files.ipynb\" target=\"_parent\"><img src=\"https://colab.research.google.com/assets/colab-badge.svg\" alt=\"Open In Colab\"/></a>"
      ]
    },
    {
      "cell_type": "code",
      "metadata": {
        "id": "5yRP2-93wvF5",
        "colab_type": "code",
        "colab": {}
      },
      "source": [
        "import numpy as np\n",
        "import pandas as pd\n",
        "import matplotlib.pyplot as plt"
      ],
      "execution_count": 0,
      "outputs": []
    },
    {
      "cell_type": "code",
      "metadata": {
        "id": "56cK1eGewvGG",
        "colab_type": "code",
        "outputId": "32e8be08-151c-48ca-a2ab-a69ded6463c1",
        "colab": {
          "base_uri": "https://localhost:8080/",
          "height": 72
        }
      },
      "source": [
        "from sklearn.externals import joblib"
      ],
      "execution_count": 3,
      "outputs": [
        {
          "output_type": "stream",
          "text": [
            "/usr/local/lib/python3.6/dist-packages/sklearn/externals/joblib/__init__.py:15: FutureWarning: sklearn.externals.joblib is deprecated in 0.21 and will be removed in 0.23. Please import this functionality directly from joblib, which can be installed with: pip install joblib. If this warning is raised when loading pickled models, you may need to re-serialize those models with scikit-learn 0.21+.\n",
            "  warnings.warn(msg, category=FutureWarning)\n"
          ],
          "name": "stderr"
        }
      ]
    },
    {
      "cell_type": "code",
      "metadata": {
        "id": "9JBphHGLxK-Y",
        "colab_type": "code",
        "colab": {
          "base_uri": "https://localhost:8080/",
          "height": 34
        },
        "outputId": "bf1da79a-cc24-4e93-af66-f6eed5208b5a"
      },
      "source": [
        "from google.colab import drive\n",
        "drive.mount('/content/drive')"
      ],
      "execution_count": 4,
      "outputs": [
        {
          "output_type": "stream",
          "text": [
            "Mounted at /content/drive\n"
          ],
          "name": "stdout"
        }
      ]
    },
    {
      "cell_type": "code",
      "metadata": {
        "id": "Ha7_-P2byJQM",
        "colab_type": "code",
        "colab": {}
      },
      "source": [
        "from sklearn.model_selection import train_test_split\n",
        "import numpy as np"
      ],
      "execution_count": 0,
      "outputs": []
    },
    {
      "cell_type": "code",
      "metadata": {
        "id": "PkG_ObXdwvGR",
        "colab_type": "code",
        "colab": {
          "base_uri": "https://localhost:8080/",
          "height": 330
        },
        "outputId": "b29a8039-7ba8-44de-b88e-ce8b27d39622"
      },
      "source": [
        "n_steps = 128\n",
        "path = \"drive/My Drive/Greend/\"\n",
        "for i in range(9):\n",
        "  data = joblib.load(path+\"Resampled_5MIN_equip_\"+str(i+1)+\".pkl\")\n",
        "  m = data.shape[0]\n",
        "  n = data.shape[1]\n",
        "  data = data.values\n",
        "  data = data.reshape((-1,1))\n",
        "  x_final = []\n",
        "  y_final  = []\n",
        "  for j in range(m):\n",
        "      if j<n_steps:\n",
        "          continue\n",
        "      x_temp = data[j-n_steps:j,0:1]\n",
        "      y_temp = data[j,0:1]    \n",
        "      x_final.append(x_temp)\n",
        "      y_final.append(y_temp)\n",
        "      \n",
        "  x_final = np.array(x_final)\n",
        "  y_final = np.array(y_final)\n",
        "  y_final = y_final.reshape((-1,))\n",
        "  x_final = x_final.reshape((-1,n_steps,1))\n",
        "  print(x_final.shape)\n",
        "  print(y_final.shape)\n",
        "  x_train,x_test,y_train,y_test = train_test_split(x_final,y_final,test_size = 0.3)\n",
        "  np.save(path+\"x_greend_eq\"+str(i)+\".npy\", x_train)\n",
        "  np.save(path+\"y_greend_eq\"+str(i)+\".npy\", y_train)\n",
        "  np.save(path+\"xt_greend_eq\"+str(i)+\".npy\", x_test)\n",
        "  np.save(path+\"yt_greend_eq\"+str(i)+\".npy\", y_test)"
      ],
      "execution_count": 16,
      "outputs": [
        {
          "output_type": "stream",
          "text": [
            "(143545, 128, 1)\n",
            "(143545,)\n",
            "(143545, 128, 1)\n",
            "(143545,)\n",
            "(143545, 128, 1)\n",
            "(143545,)\n",
            "(143545, 128, 1)\n",
            "(143545,)\n",
            "(143545, 128, 1)\n",
            "(143545,)\n",
            "(143545, 128, 1)\n",
            "(143545,)\n",
            "(143545, 128, 1)\n",
            "(143545,)\n",
            "(143545, 128, 1)\n",
            "(143545,)\n",
            "(143545, 128, 1)\n",
            "(143545,)\n"
          ],
          "name": "stdout"
        }
      ]
    }
  ]
}