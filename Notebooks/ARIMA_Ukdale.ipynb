{
  "nbformat": 4,
  "nbformat_minor": 0,
  "metadata": {
    "kernelspec": {
      "name": "python3",
      "display_name": "Python 3"
    },
    "language_info": {
      "codemirror_mode": {
        "name": "ipython",
        "version": 3
      },
      "file_extension": ".py",
      "mimetype": "text/x-python",
      "name": "python",
      "nbconvert_exporter": "python",
      "pygments_lexer": "ipython3",
      "version": "3.7.3"
    },
    "colab": {
      "name": "ARIMA_Ukdale.ipynb",
      "provenance": [],
      "include_colab_link": true
    },
    "accelerator": "GPU"
  },
  "cells": [
    {
      "cell_type": "markdown",
      "metadata": {
        "id": "view-in-github",
        "colab_type": "text"
      },
      "source": [
        "<a href=\"https://colab.research.google.com/github/RachitBansal/AppliancePower_TimeSeries/blob/master/ARIMA_Ukdale.ipynb\" target=\"_parent\"><img src=\"https://colab.research.google.com/assets/colab-badge.svg\" alt=\"Open In Colab\"/></a>"
      ]
    },
    {
      "cell_type": "code",
      "metadata": {
        "id": "xHX5394t8gD1",
        "colab_type": "code",
        "outputId": "2b2913d2-7286-446a-fe3e-d38f0567e6db",
        "colab": {
          "base_uri": "https://localhost:8080/",
          "height": 124
        }
      },
      "source": [
        "from google.colab import drive\n",
        "drive.mount('/content/drive',force_remount=True)"
      ],
      "execution_count": 1,
      "outputs": [
        {
          "output_type": "stream",
          "text": [
            "Go to this URL in a browser: https://accounts.google.com/o/oauth2/auth?client_id=947318989803-6bn6qk8qdgf4n4g3pfee6491hc0brc4i.apps.googleusercontent.com&redirect_uri=urn%3aietf%3awg%3aoauth%3a2.0%3aoob&response_type=code&scope=email%20https%3a%2f%2fwww.googleapis.com%2fauth%2fdocs.test%20https%3a%2f%2fwww.googleapis.com%2fauth%2fdrive%20https%3a%2f%2fwww.googleapis.com%2fauth%2fdrive.photos.readonly%20https%3a%2f%2fwww.googleapis.com%2fauth%2fpeopleapi.readonly\n",
            "\n",
            "Enter your authorization code:\n",
            "··········\n",
            "Mounted at /content/drive\n"
          ],
          "name": "stdout"
        }
      ]
    },
    {
      "cell_type": "code",
      "metadata": {
        "id": "6k-cNpec86Rq",
        "colab_type": "code",
        "colab": {
          "base_uri": "https://localhost:8080/",
          "height": 72
        },
        "outputId": "35d1802a-e17e-4ec9-8ed6-2d5cde5a15c8"
      },
      "source": [
        "from sklearn.externals import joblib\n",
        "import numpy as np\n",
        "import matplotlib.pyplot as plt"
      ],
      "execution_count": 2,
      "outputs": [
        {
          "output_type": "stream",
          "text": [
            "/usr/local/lib/python3.6/dist-packages/sklearn/externals/joblib/__init__.py:15: DeprecationWarning: sklearn.externals.joblib is deprecated in 0.21 and will be removed in 0.23. Please import this functionality directly from joblib, which can be installed with: pip install joblib. If this warning is raised when loading pickled models, you may need to re-serialize those models with scikit-learn 0.21+.\n",
            "  warnings.warn(msg, category=DeprecationWarning)\n"
          ],
          "name": "stderr"
        }
      ]
    },
    {
      "cell_type": "code",
      "metadata": {
        "id": "KrS3bezrBVb4",
        "colab_type": "code",
        "colab": {
          "base_uri": "https://localhost:8080/",
          "height": 34
        },
        "outputId": "a9cdd33e-70d3-4529-b804-88921ad0349a"
      },
      "source": [
        "eq = input(\"Enter equipment: \")\n",
        "\n",
        "train_x = np.load(file='./drive/My Drive/ukdale_'+eq+'_x.npy')\n",
        "train_y = np.load(file='./drive/My Drive/ukdale_'+eq+'_y.npy')\n",
        "test_y = np.load(file='./drive/My Drive/ukdale_'+eq+'_ty.npy')\n",
        "test_x = np.load(file='./drive/My Drive/ukdale_'+eq+'_tx.npy')"
      ],
      "execution_count": 3,
      "outputs": [
        {
          "output_type": "stream",
          "text": [
            "Enter equipment: 5\n"
          ],
          "name": "stdout"
        }
      ]
    },
    {
      "cell_type": "code",
      "metadata": {
        "id": "hsgQEByT8Ogn",
        "colab_type": "code",
        "outputId": "2ee5f6bc-dc96-4b0d-c9c6-b258b0a79fe7",
        "colab": {
          "base_uri": "https://localhost:8080/",
          "height": 265
        }
      },
      "source": [
        "from pandas import datetime\n",
        "import pandas as pd\n",
        "\n",
        "# series = joblib.load(\"hour_resampled_data.pkl\")\n",
        "# sample = series\n",
        "# sample = np.array(sample)\n",
        "# sample = sample[3000:4500,1:2]\n",
        "\n",
        "# series  = np.array(series)\n",
        "# series = series[:3000,1:2]\n",
        "# print(series.shape)\n",
        "# series = pd.DataFrame(series)\n",
        "# #series.drop(axis = \"index\")\n",
        "# print(series.head())\n",
        "# equipment = int(input('equipment: '))\n",
        "series = test_x[:3000, 0]\n",
        "\n",
        "plt.plot(series)\n",
        "plt.show()"
      ],
      "execution_count": 4,
      "outputs": [
        {
          "output_type": "display_data",
          "data": {
            "image/png": "[encoded data removed]",
            "text/plain": [
              "<Figure size 432x288 with 1 Axes>"
            ]
          },
          "metadata": {
            "tags": []
          }
        }
      ]
    },
    {
      "cell_type": "code",
      "metadata": {
        "id": "ynSHYGZ88Ogy",
        "colab_type": "code",
        "outputId": "b9165f6f-9981-486e-b8ab-ab15a51ab50a",
        "colab": {
          "base_uri": "https://localhost:8080/",
          "height": 283
        }
      },
      "source": [
        "from pandas import read_csv\n",
        "from pandas import datetime\n",
        "from matplotlib import pyplot\n",
        "from pandas.plotting import autocorrelation_plot\n",
        "\n",
        "# series = read_csv('shampoo-sales.csv', header=0, parse_dates=[0], index_col=0, squeeze=True, date_parser=parser)\n",
        "autocorrelation_plot(series)\n",
        "pyplot.show()"
      ],
      "execution_count": 5,
      "outputs": [
        {
          "output_type": "display_data",
          "data": {
            "image/png": "[encoded data removed]",
            "text/plain": [
              "<Figure size 432x288 with 1 Axes>"
            ]
          },
          "metadata": {
            "tags": []
          }
        }
      ]
    },
    {
      "cell_type": "code",
      "metadata": {
        "id": "G3JPIPtc8Og5",
        "colab_type": "code",
        "outputId": "8c63039e-73c3-4f79-a4df-4f9193790b07",
        "colab": {
          "base_uri": "https://localhost:8080/",
          "height": 1000
        }
      },
      "source": [
        "from pandas import datetime\n",
        "from pandas import DataFrame\n",
        "from statsmodels.tsa.arima_model import ARIMA\n",
        "from matplotlib import pyplot\n",
        "import numpy as np \n",
        "def parser(x):\n",
        "    return datetime.strptime('190'+x, '%Y-%m')\n",
        " \n",
        "# series = read_csv('shampoo-sales.csv', header=0, parse_dates=[0], index_col=0, squeeze=True, date_parser=parser)\n",
        "# fit model\n",
        "series = np.array(series)\n",
        "model = ARIMA(series, order=(5,1,0))\n",
        "model_fit = model.fit(disp=0)\n",
        "print(model_fit.summary())\n",
        "# plot residual errors\n",
        "residuals = DataFrame(model_fit.resid)\n",
        "residuals.plot()\n",
        "pyplot.show()\n",
        "residuals.plot(kind='kde')\n",
        "pyplot.show()\n",
        "print(residuals.describe())"
      ],
      "execution_count": 6,
      "outputs": [
        {
          "output_type": "stream",
          "text": [
            "                             ARIMA Model Results                              \n",
            "==============================================================================\n",
            "Dep. Variable:                    D.y   No. Observations:                 2999\n",
            "Model:                 ARIMA(5, 1, 0)   Log Likelihood              -11481.833\n",
            "Method:                       css-mle   S.D. of innovations             11.129\n",
            "Date:                Tue, 24 Dec 2019   AIC                          22977.666\n",
            "Time:                        09:37:15   BIC                          23019.708\n",
            "Sample:                             1   HQIC                         22992.789\n",
            "                                                                              \n",
            "==============================================================================\n",
            "                 coef    std err          z      P>|z|      [0.025      0.975]\n",
            "------------------------------------------------------------------------------\n",
            "const      -6.939e-18      0.120   -5.8e-17      1.000      -0.234       0.234\n",
            "ar.L1.D.y      0.0112      0.018      0.619      0.536      -0.024       0.047\n",
            "ar.L2.D.y     -0.3419      0.018    -18.952      0.000      -0.377      -0.307\n",
            "ar.L3.D.y     -0.1614      0.019     -8.558      0.000      -0.198      -0.124\n",
            "ar.L4.D.y     -0.0743      0.018     -4.123      0.000      -0.110      -0.039\n",
            "ar.L5.D.y     -0.1341      0.018     -7.415      0.000      -0.169      -0.099\n",
            "                                    Roots                                    \n",
            "=============================================================================\n",
            "                  Real          Imaginary           Modulus         Frequency\n",
            "-----------------------------------------------------------------------------\n",
            "AR.1            0.8802           -1.0994j            1.4084           -0.1425\n",
            "AR.2            0.8802           +1.0994j            1.4084            0.1425\n",
            "AR.3           -1.6840           -0.0000j            1.6840           -0.5000\n",
            "AR.4           -0.3155           -1.4607j            1.4944           -0.2839\n",
            "AR.5           -0.3155           +1.4607j            1.4944            0.2839\n",
            "-----------------------------------------------------------------------------\n"
          ],
          "name": "stdout"
        },
        {
          "output_type": "display_data",
          "data": {
            "image/png": "[encoded data removed]",
            "text/plain": [
              "<Figure size 432x288 with 1 Axes>"
            ]
          },
          "metadata": {
            "tags": []
          }
        },
        {
          "output_type": "display_data",
          "data": {
            "image/png": "[encoded data removed]",
            "text/plain": [
              "<Figure size 432x288 with 1 Axes>"
            ]
          },
          "metadata": {
            "tags": []
          }
        },
        {
          "output_type": "stream",
          "text": [
            "                  0\n",
            "count  2.999000e+03\n",
            "mean   2.347572e-17\n",
            "std    1.113086e+01\n",
            "min   -1.872455e+02\n",
            "25%    1.179935e-17\n",
            "50%    1.179935e-17\n",
            "75%    1.179935e-17\n",
            "max    2.387206e+02\n"
          ],
          "name": "stdout"
        }
      ]
    },
    {
      "cell_type": "code",
      "metadata": {
        "id": "E_MPIBpMxuYx",
        "colab_type": "code",
        "colab": {}
      },
      "source": [
        "from pandas import datetime\n",
        "from matplotlib import pyplot\n",
        "from statsmodels.tsa.arima_model import ARIMA\n",
        "from sklearn.metrics import mean_squared_error,mean_absolute_error"
      ],
      "execution_count": 0,
      "outputs": []
    },
    {
      "cell_type": "code",
      "metadata": {
        "id": "2BJ4ZPRq83r0",
        "colab_type": "code",
        "colab": {}
      },
      "source": [
        "# equipment = 3"
      ],
      "execution_count": 0,
      "outputs": []
    },
    {
      "cell_type": "code",
      "metadata": {
        "id": "LQTdWczkRSZJ",
        "colab_type": "code",
        "colab": {
          "base_uri": "https://localhost:8080/",
          "height": 34
        },
        "outputId": "16c04249-a569-45bb-9076-22102279935e"
      },
      "source": [
        "len(list(train_x[0].reshape(-1)))"
      ],
      "execution_count": 29,
      "outputs": [
        {
          "output_type": "execute_result",
          "data": {
            "text/plain": [
              "128"
            ]
          },
          "metadata": {
            "tags": []
          },
          "execution_count": 29
        }
      ]
    },
    {
      "cell_type": "code",
      "metadata": {
        "id": "-EO0zz7SCl63",
        "colab_type": "code",
        "colab": {}
      },
      "source": [
        "history = list(train_x[0].reshape(-1))\n",
        "\n",
        "for i in range(train_x.shape[0] - 1):\n",
        "  history.append(train_x[i+1][-1])"
      ],
      "execution_count": 0,
      "outputs": []
    },
    {
      "cell_type": "code",
      "metadata": {
        "id": "kXxgkjxkTDEM",
        "colab_type": "code",
        "colab": {
          "base_uri": "https://localhost:8080/",
          "height": 282
        },
        "outputId": "dd847e99-4c97-40fa-c565-6bc2df5fe66f"
      },
      "source": [
        "plt.plot(history)"
      ],
      "execution_count": 36,
      "outputs": [
        {
          "output_type": "execute_result",
          "data": {
            "text/plain": [
              "[<matplotlib.lines.Line2D at 0x7f5aa5454710>]"
            ]
          },
          "metadata": {
            "tags": []
          },
          "execution_count": 36
        },
        {
          "output_type": "display_data",
          "data": {
            "image/png": "[encoded data removed]",
            "text/plain": [
              "<Figure size 432x288 with 1 Axes>"
            ]
          },
          "metadata": {
            "tags": []
          }
        }
      ]
    },
    {
      "cell_type": "code",
      "metadata": {
        "id": "NicTLyx5Vtz8",
        "colab_type": "code",
        "colab": {}
      },
      "source": [
        "history = list(train_x[0].reshape(-1))\n",
        "\n",
        "for i in range(1000):\n",
        "  history.append(train_x[-1000+i][-1])\n",
        "\n",
        "# history.append(x for x in test_x[0].reshape(-1))"
      ],
      "execution_count": 0,
      "outputs": []
    },
    {
      "cell_type": "code",
      "metadata": {
        "id": "LUojMt2FT8Tm",
        "colab_type": "code",
        "colab": {}
      },
      "source": [
        "model = ARIMA(history, order=(5,1,0))\n",
        "model_fit = model.fit(disp=0)"
      ],
      "execution_count": 0,
      "outputs": []
    },
    {
      "cell_type": "code",
      "metadata": {
        "id": "Z8dZiL_NWsFA",
        "colab_type": "code",
        "colab": {
          "base_uri": "https://localhost:8080/",
          "height": 34
        },
        "outputId": "bf328f63-354a-4299-fcdd-862ef60218de"
      },
      "source": [
        "history = list(test_x[0].reshape(-1))"
      ],
      "execution_count": 46,
      "outputs": [
        {
          "output_type": "execute_result",
          "data": {
            "text/plain": [
              "<generator object <genexpr> at 0x7f5aa27d9bf8>"
            ]
          },
          "metadata": {
            "tags": []
          },
          "execution_count": 46
        }
      ]
    },
    {
      "cell_type": "code",
      "metadata": {
        "id": "72cP-SxCBaB0",
        "colab_type": "code",
        "outputId": "0d0d5d89-dacb-4d4d-823a-66a2638ddca0",
        "colab": {
          "base_uri": "https://localhost:8080/",
          "height": 717
        }
      },
      "source": [
        "predictions = []\n",
        "# history = [x for x in test_x[i].reshape(-1) for i in range(1000)]\n",
        "for t in range(1000): \n",
        "    model = ARIMA(history, order=(5,1,0))\n",
        "    model_fit = model.fit(disp=0)\n",
        "    output = model_fit.forecast()\n",
        "    yhat = output[0]\n",
        "    predictions.append(yhat)\n",
        "    obs = test_y[t][0][0]\n",
        "    history.append(obs)\n",
        "    if(t%50==0):\n",
        "        print('predicted=%f, expected=%f' % (yhat, obs))\n",
        "\n",
        "predictions = np.array(predictions)\n",
        "print(predictions.shape)\n",
        "print(test_y.shape)\n",
        "error = mean_squared_error(test_y[:1000].reshape(-1), predictions)\n",
        "print('Test MSE: %.3f' % error)\n",
        "print(\"RMSE : %.3f\"%(np.sqrt(error)))\n",
        "print(\"MAE : %.3f\"%(mean_absolute_error(test_y[:1000].reshape(-1),predictions)))\n",
        "\n",
        "# plot\n",
        "pyplot.plot(test_y[:1000].reshape(-1))\n",
        "pyplot.plot(predictions)"
      ],
      "execution_count": 48,
      "outputs": [
        {
          "output_type": "stream",
          "text": [
            "predicted=0.000000, expected=0.000000\n",
            "predicted=0.000000, expected=0.000000\n",
            "predicted=0.000000, expected=0.000000\n",
            "predicted=0.000000, expected=0.000000\n",
            "predicted=0.000000, expected=0.000000\n",
            "predicted=0.000001, expected=0.000000\n",
            "predicted=0.000000, expected=0.000000\n",
            "predicted=0.000000, expected=0.000000\n",
            "predicted=-0.000000, expected=0.000000\n",
            "predicted=-0.000001, expected=0.000000\n",
            "predicted=-0.000000, expected=0.000000\n",
            "predicted=0.000000, expected=0.000000\n",
            "predicted=-0.000000, expected=0.000000\n",
            "predicted=-0.000000, expected=0.000000\n",
            "predicted=-0.000000, expected=0.000000\n",
            "predicted=-0.000000, expected=0.000000\n",
            "predicted=0.000001, expected=0.000000\n",
            "predicted=18.375338, expected=27.026667\n",
            "predicted=-0.000000, expected=0.000000\n",
            "predicted=-0.000000, expected=0.000000\n",
            "(1000, 1)\n",
            "(187509, 1, 1)\n",
            "Test MSE: 230.788\n",
            "RMSE : 15.192\n",
            "MAE : 2.277\n"
          ],
          "name": "stdout"
        },
        {
          "output_type": "execute_result",
          "data": {
            "text/plain": [
              "[<matplotlib.lines.Line2D at 0x7f5aa27fe400>]"
            ]
          },
          "metadata": {
            "tags": []
          },
          "execution_count": 48
        },
        {
          "output_type": "display_data",
          "data": {
            "image/png": "[encoded data removed]",
            "text/plain": [
              "<Figure size 432x288 with 1 Axes>"
            ]
          },
          "metadata": {
            "tags": []
          }
        }
      ]
    },
    {
      "cell_type": "code",
      "metadata": {
        "id": "d5fWTP_hEuOx",
        "colab_type": "code",
        "colab": {}
      },
      "source": [
        "np.save(arr = np.array(predictions), file = './drive/My Drive/arima_ukdale_preds_1000_eq'+eq+'.npy')"
      ],
      "execution_count": 0,
      "outputs": []
    },
    {
      "cell_type": "code",
      "metadata": {
        "id": "eCEnX4l79AA7",
        "colab_type": "code",
        "outputId": "10ba623c-3fc9-4325-be14-c9fb6bd461d5",
        "colab": {
          "base_uri": "https://localhost:8080/",
          "height": 72
        }
      },
      "source": [
        "import time\n",
        "t1 = time.time()\n",
        "times = []\n",
        "for t in range(50): \n",
        "    model = ARIMA(history[t], order=(5,1,0))\n",
        "    model_fit = model.fit(disp=0)\n",
        "    t1 = time.time()\n",
        "    output = model_fit.forecast()\n",
        "    t2 = time.time()\n",
        "    times.append(t2-t1)\n",
        "print(times)\n",
        "print(sum(times))"
      ],
      "execution_count": 0,
      "outputs": [
        {
          "output_type": "stream",
          "text": [
            "[0.002229452133178711, 0.002145528793334961, 0.0022776126861572266, 0.0021119117736816406, 0.0020639896392822266, 0.0021719932556152344, 0.002135753631591797, 0.0022683143615722656, 0.0020749568939208984, 0.002238035202026367, 0.0021359920501708984, 0.002263784408569336, 0.0021483898162841797, 0.002351522445678711, 0.0020711421966552734, 0.0020694732666015625, 0.0021843910217285156, 0.0021543502807617188, 0.0020427703857421875, 0.0022361278533935547, 0.0021584033966064453, 0.002172708511352539, 0.0022726058959960938, 0.0019328594207763672, 0.0020842552185058594, 0.0019707679748535156, 0.0021820068359375, 0.0022058486938476562, 0.002017974853515625, 0.0020842552185058594, 0.0018773078918457031, 0.002106904983520508, 0.0020961761474609375, 0.0020842552185058594, 0.0021736621856689453, 0.001996278762817383, 0.0021402835845947266, 0.0023005008697509766, 0.002201080322265625, 0.002312183380126953, 0.0021886825561523438, 0.002158641815185547, 0.002132892608642578, 0.0021398067474365234, 0.002120494842529297, 0.002129793167114258, 0.002066373825073242, 0.0020627975463867188, 0.0019452571868896484, 0.002025127410888672]\n",
            "0.10671567916870117\n"
          ],
          "name": "stdout"
        }
      ]
    },
    {
      "cell_type": "code",
      "metadata": {
        "id": "nWL4Ep0N8OhL",
        "colab_type": "code",
        "outputId": "f8c818d7-3c8d-4f96-c0d2-e66b985dfd70",
        "colab": {
          "base_uri": "https://localhost:8080/",
          "height": 202
        }
      },
      "source": [
        "def mean_abs_pct_error(actual_values, forecast_values):\n",
        "\n",
        "    err=0\n",
        "    actual_values = pd.DataFrame(actual_values)\n",
        "    forecast_values = pd.DataFrame(forecast_values)\n",
        "    for i in range(len(forecast_values)):\n",
        "\n",
        "        err += np.abs(actual_values.values[i] - forecast_values.values[i])/actual_values.values[i]\n",
        "\n",
        "    return err[0] * 100/len(forecast_values) \n",
        "\n",
        "mean_abs_pct_error(test,predictions)"
      ],
      "execution_count": 0,
      "outputs": [
        {
          "output_type": "error",
          "ename": "NameError",
          "evalue": "ignored",
          "traceback": [
            "\u001b[0;31m---------------------------------------------------------------------------\u001b[0m",
            "\u001b[0;31mNameError\u001b[0m                                 Traceback (most recent call last)",
            "\u001b[0;32m<ipython-input-17-82697e50f568>\u001b[0m in \u001b[0;36m<module>\u001b[0;34m()\u001b[0m\n\u001b[1;32m     10\u001b[0m     \u001b[0;32mreturn\u001b[0m \u001b[0merr\u001b[0m\u001b[0;34m[\u001b[0m\u001b[0;36m0\u001b[0m\u001b[0;34m]\u001b[0m \u001b[0;34m*\u001b[0m \u001b[0;36m100\u001b[0m\u001b[0;34m/\u001b[0m\u001b[0mlen\u001b[0m\u001b[0;34m(\u001b[0m\u001b[0mforecast_values\u001b[0m\u001b[0;34m)\u001b[0m\u001b[0;34m\u001b[0m\u001b[0;34m\u001b[0m\u001b[0m\n\u001b[1;32m     11\u001b[0m \u001b[0;34m\u001b[0m\u001b[0m\n\u001b[0;32m---> 12\u001b[0;31m \u001b[0mmean_abs_pct_error\u001b[0m\u001b[0;34m(\u001b[0m\u001b[0mtest\u001b[0m\u001b[0;34m,\u001b[0m\u001b[0mpredictions\u001b[0m\u001b[0;34m)\u001b[0m\u001b[0;34m\u001b[0m\u001b[0;34m\u001b[0m\u001b[0m\n\u001b[0m",
            "\u001b[0;31mNameError\u001b[0m: name 'test' is not defined"
          ]
        }
      ]
    },
    {
      "cell_type": "code",
      "metadata": {
        "id": "_FRPSWNi8OhP",
        "colab_type": "code",
        "colab": {}
      },
      "source": [
        ""
      ],
      "execution_count": 0,
      "outputs": []
    }
  ]
}