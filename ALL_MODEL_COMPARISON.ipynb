{
  "nbformat": 4,
  "nbformat_minor": 0,
  "metadata": {
    "colab": {
      "name": "ALL_MODEL_COMPARISON.ipynb",
      "provenance": [],
      "collapsed_sections": [],
      "authorship_tag": "ABX9TyNEkK44fMdrUbGq6mafes2K",
      "include_colab_link": true
    },
    "kernelspec": {
      "name": "python3",
      "display_name": "Python 3"
    },
    "accelerator": "GPU"
  },
  "cells": [
    {
      "cell_type": "markdown",
      "metadata": {
        "id": "view-in-github",
        "colab_type": "text"
      },
      "source": [
        "<a href=\"https://colab.research.google.com/github/RachitBansal/Power-Forecasting/blob/master/ALL_MODEL_COMPARISON.ipynb\" target=\"_parent\"><img src=\"https://colab.research.google.com/assets/colab-badge.svg\" alt=\"Open In Colab\"/></a>"
      ]
    },
    {
      "cell_type": "code",
      "metadata": {
        "id": "SOz6h0i5KdZB",
        "colab_type": "code",
        "outputId": "49a07248-f841-4845-e646-62df73b16cf6",
        "colab": {
          "base_uri": "https://localhost:8080/",
          "height": 149
        }
      },
      "source": [
        "from google.colab import drive\n",
        "drive.mount('/gdrive')\n",
        "%cd /gdrive"
      ],
      "execution_count": 1,
      "outputs": [
        {
          "output_type": "stream",
          "text": [
            "Go to this URL in a browser: https://accounts.google.com/o/oauth2/auth?client_id=947318989803-6bn6qk8qdgf4n4g3pfee6491hc0brc4i.apps.googleusercontent.com&redirect_uri=urn%3aietf%3awg%3aoauth%3a2.0%3aoob&response_type=code&scope=email%20https%3a%2f%2fwww.googleapis.com%2fauth%2fdocs.test%20https%3a%2f%2fwww.googleapis.com%2fauth%2fdrive%20https%3a%2f%2fwww.googleapis.com%2fauth%2fdrive.photos.readonly%20https%3a%2f%2fwww.googleapis.com%2fauth%2fpeopleapi.readonly\n",
            "\n",
            "Enter your authorization code:\n",
            "··········\n",
            "Mounted at /gdrive\n",
            "/gdrive\n"
          ],
          "name": "stdout"
        }
      ]
    },
    {
      "cell_type": "code",
      "metadata": {
        "id": "-u7FIDILKe1h",
        "colab_type": "code",
        "colab": {
          "base_uri": "https://localhost:8080/",
          "height": 84
        },
        "outputId": "08222254-394e-4202-a0ab-c3da24df33a3"
      },
      "source": [
        "import os\n",
        "from keras.models import load_model,Sequential \n",
        "from keras.layers import Dense\n",
        "import numpy as np\n",
        "import matplotlib.pyplot as plt\n",
        "import pandas as pd\n",
        "from sklearn.metrics import mean_absolute_error,mean_squared_error"
      ],
      "execution_count": 2,
      "outputs": [
        {
          "output_type": "stream",
          "text": [
            "Using TensorFlow backend.\n"
          ],
          "name": "stderr"
        },
        {
          "output_type": "display_data",
          "data": {
            "text/html": [
              "<p style=\"color: red;\">\n",
              "The default version of TensorFlow in Colab will switch to TensorFlow 2.x on the 27th of March, 2020.<br>\n",
              "We recommend you <a href=\"https://www.tensorflow.org/guide/migrate\" target=\"_blank\">upgrade</a> now\n",
              "or ensure your notebook will continue to use TensorFlow 1.x via the <code>%tensorflow_version 1.x</code> magic:\n",
              "<a href=\"https://colab.research.google.com/notebooks/tensorflow_version.ipynb\" target=\"_blank\">more info</a>.</p>\n"
            ],
            "text/plain": [
              "<IPython.core.display.HTML object>"
            ]
          },
          "metadata": {
            "tags": []
          }
        }
      ]
    },
    {
      "cell_type": "code",
      "metadata": {
        "id": "pr4gTBPEN1i1",
        "colab_type": "code",
        "outputId": "bc6f3094-96aa-4039-ddfe-540960748d57",
        "colab": {
          "base_uri": "https://localhost:8080/",
          "height": 54
        }
      },
      "source": [
        "\n",
        "print(\"Enter no of equipments : \")\n",
        "num_points  = int(input())"
      ],
      "execution_count": 3,
      "outputs": [
        {
          "output_type": "stream",
          "text": [
            "Enter no of equipments : \n",
            "9\n"
          ],
          "name": "stdout"
        }
      ]
    },
    {
      "cell_type": "code",
      "metadata": {
        "id": "2L6SbiqiQXl0",
        "colab_type": "code",
        "colab": {}
      },
      "source": [
        "cnn_lstm_path = \"My Drive/Greend\"\n",
        "lstm_path = \"My Drive/Greend/Saved_weights/LSTM_weights\"\n",
        "ann_path = \"My Drive/Greend/Saved_weights/ANN_weights\""
      ],
      "execution_count": 0,
      "outputs": []
    },
    {
      "cell_type": "code",
      "metadata": {
        "id": "PSDonyyeRWnn",
        "colab_type": "code",
        "outputId": "a4b9b0ec-3143-44dc-f172-02672b50ec06",
        "colab": {
          "base_uri": "https://localhost:8080/",
          "height": 36
        }
      },
      "source": [
        "os.listdir(\"My Drive/Greend/Saved_weights\")"
      ],
      "execution_count": 5,
      "outputs": [
        {
          "output_type": "execute_result",
          "data": {
            "text/plain": [
              "['LSTM_weights', 'ANN_weights', 'CNN_LSTM_weights']"
            ]
          },
          "metadata": {
            "tags": []
          },
          "execution_count": 5
        }
      ]
    },
    {
      "cell_type": "code",
      "metadata": {
        "id": "D2QR_WnaRX0B",
        "colab_type": "code",
        "colab": {}
      },
      "source": [
        "cnnlstm = os.listdir(cnn_lstm_path)\n",
        "lstm = os.listdir(lstm_path)\n",
        "ann = os.listdir(ann_path)"
      ],
      "execution_count": 0,
      "outputs": []
    },
    {
      "cell_type": "code",
      "metadata": {
        "id": "D4Zd0kavS8os",
        "colab_type": "code",
        "colab": {
          "base_uri": "https://localhost:8080/",
          "height": 576
        },
        "outputId": "0c2e9895-3225-49ab-9bb2-c73ee3a9ef7d"
      },
      "source": [
        "Cnn = []\n",
        "Lstm  =[]\n",
        "Ann = []\n",
        "for i in range(9):\n",
        "    model1=load_model(cnn_lstm_path+'/weights{}_model_1.h5'.format(i))\n",
        "    model2=load_model(lstm_path+'/{}_model_1.h5'.format(i))\n",
        "    model3=load_model(ann_path+'/{}_model_1.h5'.format(i))\n",
        "    Cnn.append(model1)\n",
        "    Lstm.append(model2)\n",
        "    Ann.append(model3)"
      ],
      "execution_count": 7,
      "outputs": [
        {
          "output_type": "stream",
          "text": [
            "WARNING:tensorflow:From /usr/local/lib/python3.6/dist-packages/keras/backend/tensorflow_backend.py:541: The name tf.placeholder is deprecated. Please use tf.compat.v1.placeholder instead.\n",
            "\n",
            "WARNING:tensorflow:From /usr/local/lib/python3.6/dist-packages/keras/backend/tensorflow_backend.py:4432: The name tf.random_uniform is deprecated. Please use tf.random.uniform instead.\n",
            "\n",
            "WARNING:tensorflow:From /usr/local/lib/python3.6/dist-packages/keras/backend/tensorflow_backend.py:4267: The name tf.nn.max_pool is deprecated. Please use tf.nn.max_pool2d instead.\n",
            "\n",
            "WARNING:tensorflow:From /usr/local/lib/python3.6/dist-packages/keras/backend/tensorflow_backend.py:66: The name tf.get_default_graph is deprecated. Please use tf.compat.v1.get_default_graph instead.\n",
            "\n",
            "WARNING:tensorflow:From /usr/local/lib/python3.6/dist-packages/keras/backend/tensorflow_backend.py:190: The name tf.get_default_session is deprecated. Please use tf.compat.v1.get_default_session instead.\n",
            "\n",
            "WARNING:tensorflow:From /usr/local/lib/python3.6/dist-packages/keras/backend/tensorflow_backend.py:197: The name tf.ConfigProto is deprecated. Please use tf.compat.v1.ConfigProto instead.\n",
            "\n",
            "WARNING:tensorflow:From /usr/local/lib/python3.6/dist-packages/keras/backend/tensorflow_backend.py:203: The name tf.Session is deprecated. Please use tf.compat.v1.Session instead.\n",
            "\n",
            "WARNING:tensorflow:From /usr/local/lib/python3.6/dist-packages/keras/backend/tensorflow_backend.py:207: The name tf.global_variables is deprecated. Please use tf.compat.v1.global_variables instead.\n",
            "\n",
            "WARNING:tensorflow:From /usr/local/lib/python3.6/dist-packages/keras/backend/tensorflow_backend.py:216: The name tf.is_variable_initialized is deprecated. Please use tf.compat.v1.is_variable_initialized instead.\n",
            "\n",
            "WARNING:tensorflow:From /usr/local/lib/python3.6/dist-packages/keras/backend/tensorflow_backend.py:223: The name tf.variables_initializer is deprecated. Please use tf.compat.v1.variables_initializer instead.\n",
            "\n",
            "WARNING:tensorflow:From /usr/local/lib/python3.6/dist-packages/keras/optimizers.py:793: The name tf.train.Optimizer is deprecated. Please use tf.compat.v1.train.Optimizer instead.\n",
            "\n",
            "WARNING:tensorflow:From /tensorflow-1.15.0/python3.6/tensorflow_core/python/ops/math_grad.py:1424: where (from tensorflow.python.ops.array_ops) is deprecated and will be removed in a future version.\n",
            "Instructions for updating:\n",
            "Use tf.where in 2.0, which has the same broadcast rule as np.where\n",
            "WARNING:tensorflow:From /usr/local/lib/python3.6/dist-packages/keras/backend/tensorflow_backend.py:1033: The name tf.assign_add is deprecated. Please use tf.compat.v1.assign_add instead.\n",
            "\n",
            "WARNING:tensorflow:From /usr/local/lib/python3.6/dist-packages/keras/backend/tensorflow_backend.py:1020: The name tf.assign is deprecated. Please use tf.compat.v1.assign instead.\n",
            "\n"
          ],
          "name": "stdout"
        }
      ]
    },
    {
      "cell_type": "code",
      "metadata": {
        "id": "OC3R0RlHGPrn",
        "colab_type": "code",
        "colab": {}
      },
      "source": [
        "def load_data(path):\n",
        "    x_test = []\n",
        "    y_test = []\n",
        "    for i in range(num_points):\n",
        "        filenamex = path+\"/xt_greend_eq{}.npy\".format(i)\n",
        "        filenamey = path+\"/yt_greend_eq{}.npy\".format(i)\n",
        "        x_temp = np.load(filenamex)/300\n",
        "        y_temp = np.load(filenamey)/300\n",
        "        lent = x_temp.shape[0]\n",
        "        lent = int(0.8*lent)\n",
        "        x_temp = x_temp[:lent]\n",
        "        y_temp = y_temp[:lent]\n",
        "        x_test.append(x_temp)\n",
        "        y_test.append(y_temp)\n",
        "    return x_test,y_test    "
      ],
      "execution_count": 0,
      "outputs": []
    },
    {
      "cell_type": "code",
      "metadata": {
        "id": "GUAb5MsoHMfd",
        "colab_type": "code",
        "outputId": "e1f5b687-0fae-4412-cc92-2bc699f01ce7",
        "colab": {
          "base_uri": "https://localhost:8080/",
          "height": 54
        }
      },
      "source": [
        "print(\"Enter the number of points for Predictions and graphs : \")\n",
        "points = int(input())"
      ],
      "execution_count": 18,
      "outputs": [
        {
          "output_type": "stream",
          "text": [
            "Enter the number of points for Predictions and graphs : \n",
            "30\n"
          ],
          "name": "stdout"
        }
      ]
    },
    {
      "cell_type": "code",
      "metadata": {
        "id": "fmb6nomQUFPB",
        "colab_type": "code",
        "colab": {}
      },
      "source": [
        "x_test,y_test = load_data(cnn_lstm_path)"
      ],
      "execution_count": 0,
      "outputs": []
    },
    {
      "cell_type": "code",
      "metadata": {
        "id": "j0-AicYPUG68",
        "colab_type": "code",
        "colab": {}
      },
      "source": [
        "def all_model_graphs(eq):\n",
        "    i = eq\n",
        "    cnnpred = Cnn[i].predict(x_test[i][:points].reshape(points,128,1)).reshape(-1,)\n",
        "    lstmpred = Lstm[i].predict(x_test[i][:points].reshape(points,128,1)).reshape(-1,)\n",
        "    annpred = Ann[i].predict(x_test[i][:points].reshape(-1,128)).reshape(-1,)\n",
        "    ensemblepred = np.load(cnn_lstm_path+\"/results_ensemble{}_model_500.npy\".format(i))\n",
        "    ensemblepred = ensemblepred[:points].reshape(-1)\n",
        "    realpoints = y_test[i][:points].reshape(-1,)\n",
        "    try:\n",
        "        arimapred = np.load(cnn_lstm_path+\"/ARIMA_RESULT_eq{}.npy\".format(i))\n",
        "        arimapred = arimapred[:points]\n",
        "    except:\n",
        "        print(\"ARIMA reading not present!!!!!!!\")\n",
        "    print(\"Graph of equipment {} : \\n\".format(i+1))\n",
        "    try:\n",
        "        plt.plot(arimapred,label  = \"arima\")\n",
        "    except:\n",
        "        None\n",
        "    plt.plot(cnnpred,label = \"cnn-lstm\")\n",
        "    plt.plot(lstmpred,label = \"lstm\")\n",
        "    plt.plot(annpred,label = \"ann\")\n",
        "    plt.plot(ensemblepred,label = \"ensemble\")\n",
        "    plt.plot(realpoints,label = \"Actual Values\")\n",
        "    plt.legend()\n",
        "    plt.show()\n",
        "\n",
        "    print(\"Metrics of equipment {} : \\n\\n\".format(i+1))\n",
        "    print(\"CNN_LSTM: \\n\")\n",
        "    error = mean_squared_error(realpoints, cnnpred)\n",
        "    print('Test MSE: %.3f' % error)\n",
        "    print(\"RMSE : %.3f\"%(np.sqrt(error)))\n",
        "    print(\"MAE : %.3f\"%(mean_absolute_error(realpoints,cnnpred)))\n",
        "        \n",
        "    print(\"\\n\\nLSTM: \\n\")\n",
        "    error = mean_squared_error(realpoints, lstmpred)\n",
        "    print('Test MSE: %.3f' % error)\n",
        "    print(\"RMSE : %.3f\"%(np.sqrt(error)))\n",
        "    print(\"MAE : %.3f\"%(mean_absolute_error(realpoints,lstmpred)))\n",
        "\n",
        "    print(\"\\n\\nANN: \\n\")\n",
        "    error = mean_squared_error(realpoints, annpred)\n",
        "    print('Test MSE: %.3f' % error)\n",
        "    print(\"RMSE : %.3f\"%(np.sqrt(error)))\n",
        "    print(\"MAE : %.3f\"%(mean_absolute_error(realpoints,annpred)))\n",
        "\n",
        "    print(\"\\n\\nENSEMBLE : \\n\")\n",
        "    error = mean_squared_error(realpoints, ensemblepred)\n",
        "    print('Test MSE: %.3f' % error)\n",
        "    print(\"RMSE : %.3f\"%(np.sqrt(error)))\n",
        "    print(\"MAE : %.3f\"%(mean_absolute_error(realpoints,ensemblepred)))\n",
        "    try:\n",
        "        print(\"\\n\\nARIMA : \\n\")\n",
        "        error = mean_squared_error(realpoints,arimapred)\n",
        "        print('Test MSE: %.3f' % error)\n",
        "        print(\"RMSE : %.3f\"%(np.sqrt(error)))\n",
        "        print(\"MAE : %.3f\"%(mean_absolute_error(realpoints,arimapred)))\n",
        "    except:\n",
        "        None\n"
      ],
      "execution_count": 0,
      "outputs": []
    },
    {
      "cell_type": "code",
      "metadata": {
        "id": "GZ1wDs-LLwWD",
        "colab_type": "code",
        "outputId": "a4ef8fbf-7a44-4761-ed10-dfff2a1fbb06",
        "colab": {
          "base_uri": "https://localhost:8080/",
          "height": 972
        }
      },
      "source": [
        "all_model_graphs(0)"
      ],
      "execution_count": 21,
      "outputs": [
        {
          "output_type": "stream",
          "text": [
            "Graph of equipment 1 : \n",
            "\n"
          ],
          "name": "stdout"
        },
        {
          "output_type": "display_data",
          "data": {
            "image/png": "[encoded data removed]",
            "text/plain": [
              "<Figure size 432x288 with 1 Axes>"
            ]
          },
          "metadata": {
            "tags": []
          }
        },
        {
          "output_type": "stream",
          "text": [
            "Metrics of equipment 1 : \n",
            "\n",
            "\n",
            "CNN_LSTM: \n",
            "\n",
            "Test MSE: 1615.965\n",
            "RMSE : 40.199\n",
            "MAE : 25.321\n",
            "\n",
            "\n",
            "LSTM: \n",
            "\n",
            "Test MSE: 39946.565\n",
            "RMSE : 199.866\n",
            "MAE : 138.547\n",
            "\n",
            "\n",
            "ANN: \n",
            "\n",
            "Test MSE: 1268.352\n",
            "RMSE : 35.614\n",
            "MAE : 18.593\n",
            "\n",
            "\n",
            "ENSEMBLE : \n",
            "\n",
            "Test MSE: 1281.254\n",
            "RMSE : 35.795\n",
            "MAE : 21.351\n",
            "\n",
            "\n",
            "ARIMA : \n",
            "\n",
            "Test MSE: 53374.278\n",
            "RMSE : 231.029\n",
            "MAE : 195.696\n"
          ],
          "name": "stdout"
        }
      ]
    },
    {
      "cell_type": "code",
      "metadata": {
        "id": "ScR3hAUwLyrT",
        "colab_type": "code",
        "colab": {}
      },
      "source": [
        ""
      ],
      "execution_count": 0,
      "outputs": []
    }
  ]
}